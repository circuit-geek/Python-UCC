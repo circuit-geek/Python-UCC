{
 "cells": [
  {
   "cell_type": "markdown",
   "id": "ca6fe8b4",
   "metadata": {},
   "source": [
    "### 1) Write a Python program that reads a positive integer n from the user and then displays the sum of all the integers from 1 to n."
   ]
  },
  {
   "cell_type": "code",
   "execution_count": 5,
   "id": "1f42d864",
   "metadata": {},
   "outputs": [
    {
     "name": "stdout",
     "output_type": "stream",
     "text": [
      "Enter the number:5\n",
      "15.0\n"
     ]
    }
   ],
   "source": [
    "n = int(input(\"Enter the number:\"))\n",
    "add_n = (n*(n+1)/2)\n",
    "print(add_n)"
   ]
  },
  {
   "cell_type": "markdown",
   "id": "3468d1f9",
   "metadata": {},
   "source": [
    "### 2) Write a complete Python program that asks the user to enter a real number r and calculates and prints the area of the circle with that radius using the formula a = πr2. Use 3.14 for the value of π. Don’t worry about controlling the number of decimal places in the result."
   ]
  },
  {
   "cell_type": "code",
   "execution_count": 6,
   "id": "6f5395d6",
   "metadata": {},
   "outputs": [
    {
     "name": "stdout",
     "output_type": "stream",
     "text": [
      "Enter the radius of the circle:2.5\n",
      "19.625\n"
     ]
    }
   ],
   "source": [
    "r = float(input(\"Enter the radius of the circle:\"))\n",
    "pi = 3.14\n",
    "area = pi*r*r\n",
    "print(area)"
   ]
  },
  {
   "cell_type": "markdown",
   "id": "65caf0cc",
   "metadata": {},
   "source": [
    "### 3) Redo the problem above but using Python’s builtin value of π. This is named math.pi. In order to use this, you need to load Python’s math module. This is a body of mathematical capabilities, including a range of functions (trigonometrics, logarithms and so on). In order to use these add the line import math to the top of your program."
   ]
  },
  {
   "cell_type": "code",
   "execution_count": 7,
   "id": "652714a1",
   "metadata": {},
   "outputs": [
    {
     "name": "stdout",
     "output_type": "stream",
     "text": [
      "Enter the radius of the circle:2.5\n",
      "19.634954084936208\n"
     ]
    }
   ],
   "source": [
    "import math\n",
    "r_1 = float(input(\"Enter the radius of the circle:\"))\n",
    "area_1 = math.pi*r_1*r_1\n",
    "print(area_1)"
   ]
  },
  {
   "cell_type": "markdown",
   "id": "3263218b",
   "metadata": {},
   "source": [
    "### 4) Write a program that reads in a duration of time as a number of days, hours, minutes and seconds and that computes and prints the total number of seconds represented by this duration."
   ]
  },
  {
   "cell_type": "code",
   "execution_count": null,
   "id": "bb8cca01",
   "metadata": {},
   "outputs": [],
   "source": [
    "days = int(input(\"Enter the number of days:\"))\n",
    "hours = int(input(\"Enter the number of hours:\"))\n",
    "mins = int(input(\"Enter the number of mins:\"))\n",
    "secs = int(input(\"Enter the number of secs:\"))\n",
    "\n",
    "days_secs = days*24*60*60\n",
    "hours_secs = hours*60*60\n",
    "mins_secs = mins*60\n",
    "\n",
    "total_secs = days_secs + hours_secs + mins_secs + secs\n",
    "print(total_secs)"
   ]
  },
  {
   "cell_type": "code",
   "execution_count": null,
   "id": "2f72f1d1",
   "metadata": {},
   "outputs": [],
   "source": []
  }
 ],
 "metadata": {
  "kernelspec": {
   "display_name": "Python 3.9 (tensorflow)",
   "language": "python",
   "name": "tensorflow"
  },
  "language_info": {
   "codemirror_mode": {
    "name": "ipython",
    "version": 3
   },
   "file_extension": ".py",
   "mimetype": "text/x-python",
   "name": "python",
   "nbconvert_exporter": "python",
   "pygments_lexer": "ipython3",
   "version": "3.9.12"
  }
 },
 "nbformat": 4,
 "nbformat_minor": 5
}
