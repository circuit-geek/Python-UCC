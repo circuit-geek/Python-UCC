{
 "cells": [
  {
   "cell_type": "markdown",
   "id": "6d9df5cc",
   "metadata": {},
   "source": [
    "### Q1) Write a Python function to english(n) that takes a positive integer value ‘n’ and that returns a string containing the number expressed in English words. For example, if ‘n’ is 142, then the function should return the string “one hundred and forty-two”. Assume that ‘n’ is less than 1000."
   ]
  },
  {
   "cell_type": "code",
   "execution_count": 22,
   "id": "bf9e6a42",
   "metadata": {},
   "outputs": [],
   "source": [
    "def to_english(n):\n",
    "    \n",
    "    ones = [\"zero\", \"one\", \"two\", \"three\", \"four\", \"five\", \"six\", \"seven\", \"eight\", \"nine\"]\n",
    "    teens = [\"\", \"eleven\", \"twelve\", \"thirteen\", \"fourteen\", \"fifteen\", \"sixteen\", \"seventeen\", \"eighteen\", \"nineteen\"]\n",
    "    tens = [\"\", \"ten\", \"twenty\", \"thirty\", \"fourty\", \"fifty\", \"sixty\", \"seventy\", \"eighty\", \"ninety\"]\n",
    "    \n",
    "    def single_digit_num(num):\n",
    "        \n",
    "            return ones[num]\n",
    "    \n",
    "    def two_digit_num(num):\n",
    "        \n",
    "        if num == 10:\n",
    "            return \"ten\"\n",
    "        \n",
    "        elif num < 20:\n",
    "            x = 20 - num\n",
    "            return teens[x]\n",
    "        \n",
    "        else:\n",
    "            y = num // 10\n",
    "            z = num % 10\n",
    "            return tens[y] + \" \" + ones[z]\n",
    "        \n",
    "    def three_digit_num(num):\n",
    "        \n",
    "        if num == 100:\n",
    "            return \"hundred\"\n",
    "        else:\n",
    "            x = num // 100\n",
    "            y = (num % 100)//10\n",
    "            z = num % 10\n",
    "            return ones[x] + \" \" + tens[y] + \" \" + ones[z]\n",
    "    \n",
    "    if n < 10:\n",
    "        return single_digit_num(n)\n",
    "    \n",
    "    elif n < 100:\n",
    "        return two_digit_num(n)\n",
    "    \n",
    "    else:\n",
    "        return three_digit_num(n)"
   ]
  },
  {
   "cell_type": "code",
   "execution_count": 23,
   "id": "52ce602d",
   "metadata": {},
   "outputs": [
    {
     "data": {
      "text/plain": [
       "'one fourty two'"
      ]
     },
     "execution_count": 23,
     "metadata": {},
     "output_type": "execute_result"
    }
   ],
   "source": [
    "to_english(142)"
   ]
  },
  {
   "cell_type": "markdown",
   "id": "4b0c0b75",
   "metadata": {},
   "source": [
    "### Q2) Write a Python function is palindrome(s) that takes a single string parameter s and that returns True if the letters within the string read the same left to right as they do right to left. All non-letters (spaces, punctuation etc.) are ignored and no distinction is made between upper and lowercase letters."
   ]
  },
  {
   "cell_type": "code",
   "execution_count": 53,
   "id": "a4225e80",
   "metadata": {},
   "outputs": [],
   "source": [
    "import string\n",
    "def is_palindrome(text):\n",
    "    \n",
    "    str1 = text\n",
    "    str1 = str1.lower()\n",
    "    marks = string.punctuation\n",
    "    emp_str = \"\"\n",
    "    \n",
    "    for words in str1:\n",
    "        if words not in marks:\n",
    "            emp_str = emp_str + words\n",
    "    \n",
    "    emp_str2 = '  '.join(emp_str)\n",
    "    reversed_string = emp_str2[::-1] \n",
    "    return emp_str2 == reversed_string[::-1]"
   ]
  },
  {
   "cell_type": "code",
   "execution_count": 54,
   "id": "2c3db8cc",
   "metadata": {},
   "outputs": [
    {
     "data": {
      "text/plain": [
       "True"
      ]
     },
     "execution_count": 54,
     "metadata": {},
     "output_type": "execute_result"
    }
   ],
   "source": [
    "is_palindrome(\"Doc, note: I dissent. A fast never prevents a fatness. I diet on cod\")"
   ]
  },
  {
   "cell_type": "code",
   "execution_count": 55,
   "id": "c9fa0e6e",
   "metadata": {},
   "outputs": [
    {
     "data": {
      "text/plain": [
       "True"
      ]
     },
     "execution_count": 55,
     "metadata": {},
     "output_type": "execute_result"
    }
   ],
   "source": [
    "is_palindrome(\"Able was I 'ere I saw Elba.\")"
   ]
  },
  {
   "cell_type": "markdown",
   "id": "1770f169",
   "metadata": {},
   "source": [
    "### Q3) Write a function peaks(numlist)) that takes a numerical list as parameter and that returns the list of elements in numlist which exceed all previous elements."
   ]
  },
  {
   "cell_type": "code",
   "execution_count": 56,
   "id": "3e815269",
   "metadata": {},
   "outputs": [],
   "source": [
    "def peaks(numlist):\n",
    "    \n",
    "    lst = numlist\n",
    "    num = 0\n",
    "    num_list = []\n",
    "    n = len(lst)\n",
    "    if n == 0:\n",
    "        return []\n",
    "    else:\n",
    "        for i in range(n):\n",
    "            if lst[i] == lst[i + 1]:\n",
    "                num = lst[i]\n",
    "                num_list.append(num)\n",
    "                \n",
    "            if lst[i] > lst[i + 1]:\n",
    "                num = lst[i]\n",
    "                num_list.append(num)\n",
    "            \n",
    "            else:\n",
    "                num = lst[i + 1]\n",
    "                num_list.append(num)\n",
    "        return num_list"
   ]
  },
  {
   "cell_type": "code",
   "execution_count": 66,
   "id": "825e8f17",
   "metadata": {},
   "outputs": [],
   "source": [
    "def peaks(numlist):\n",
    "    peaks_list = []\n",
    "    max_so_far = float('-inf')  # Initialize the maximum value to negative infinity\n",
    "    \n",
    "    for num in numlist:\n",
    "        if num > max_so_far:\n",
    "            peaks_list.append(num)\n",
    "            max_so_far = num\n",
    "    \n",
    "    return peaks_list"
   ]
  },
  {
   "cell_type": "code",
   "execution_count": 67,
   "id": "9b583d25",
   "metadata": {},
   "outputs": [
    {
     "data": {
      "text/plain": [
       "[3, 5, 7, 8]"
      ]
     },
     "execution_count": 67,
     "metadata": {},
     "output_type": "execute_result"
    }
   ],
   "source": [
    "peaks([3, 2, 5, 5, 7, 6, 1, 8, 4])"
   ]
  },
  {
   "cell_type": "code",
   "execution_count": null,
   "id": "986a37be",
   "metadata": {},
   "outputs": [],
   "source": []
  }
 ],
 "metadata": {
  "kernelspec": {
   "display_name": "Python 3.9 (tensorflow)",
   "language": "python",
   "name": "tensorflow"
  },
  "language_info": {
   "codemirror_mode": {
    "name": "ipython",
    "version": 3
   },
   "file_extension": ".py",
   "mimetype": "text/x-python",
   "name": "python",
   "nbconvert_exporter": "python",
   "pygments_lexer": "ipython3",
   "version": "3.9.12"
  }
 },
 "nbformat": 4,
 "nbformat_minor": 5
}
