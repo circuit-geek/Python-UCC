{
 "cells": [
  {
   "cell_type": "markdown",
   "id": "cda623a4",
   "metadata": {},
   "source": [
    "### 1) Write a function to remove all the vowels from a string. The function should take a single string parameter and return a modified copy of the string containing all the consonants but none of the vowels. For example, the string ‘vowels’ should yield ‘vwls’ and ‘consonants’ should yield ‘cnsnnts’."
   ]
  },
  {
   "cell_type": "code",
   "execution_count": 1,
   "id": "3170a7c0",
   "metadata": {},
   "outputs": [],
   "source": [
    "def remove_vowels(text):\n",
    "    \n",
    "    vowel_list = ['a', 'e', 'i', 'o', 'u']\n",
    "    consts = []\n",
    "    string_list = [i for i in text]\n",
    "    for i in string_list:\n",
    "        if i not in vowel_list:\n",
    "            consts.append(i)\n",
    "    my_str = ''.join(str(x) for x in consts)\n",
    "    print(my_str)"
   ]
  },
  {
   "cell_type": "code",
   "execution_count": 3,
   "id": "80304987",
   "metadata": {},
   "outputs": [
    {
     "name": "stdout",
     "output_type": "stream",
     "text": [
      "Grv\n"
     ]
    }
   ],
   "source": [
    "remove_vowels('Gaurav')"
   ]
  },
  {
   "cell_type": "markdown",
   "id": "4d6dfbb4",
   "metadata": {},
   "source": [
    "### 2) Write a Python function that takes as string and that prints out the individual words each on a separate line with their first letter capitalised. Assume the the string contains letter only (no digits or punctuation) and that words are separated from one one another by means of a single space."
   ]
  },
  {
   "cell_type": "code",
   "execution_count": 5,
   "id": "f0e9dbab",
   "metadata": {},
   "outputs": [],
   "source": [
    "def capitalise_word(text):\n",
    "    \n",
    "    new_str = text.split()\n",
    "    for word in new_str:\n",
    "        capital_str = word.capitalize()\n",
    "        print(capital_str)"
   ]
  },
  {
   "cell_type": "code",
   "execution_count": 6,
   "id": "21bdc926",
   "metadata": {},
   "outputs": [
    {
     "name": "stdout",
     "output_type": "stream",
     "text": [
      "Hello\n",
      "My\n",
      "Name\n",
      "Is\n",
      "Gaurav\n"
     ]
    }
   ],
   "source": [
    "capitalise_word(\"hello my name is gaurav\")"
   ]
  },
  {
   "cell_type": "markdown",
   "id": "41889669",
   "metadata": {},
   "source": [
    "### 3) In the game of Scrabble, each letter has a number of points associated with it. The total score for a word is the total of the points/score of its constituent letters. The points for each letter are as shown below: Points Letters 1 a, e, i, l, n, o, r, s, t and u 2 d and g 3 b, c, m and p 4 f, h, v, w and y 5 k 8 j and x 10 q and z. Write a function that takes a string parameter and that determines and returns the Scrabble score for that string. Your function should ignore capitalization. Any string that contains any non-letters (including spaces) should result in a score of zero. Lists, strings and ifs should suffice to solve this."
   ]
  },
  {
   "cell_type": "code",
   "execution_count": 13,
   "id": "e5b64203",
   "metadata": {},
   "outputs": [],
   "source": [
    "def scrabble_points(text):\n",
    "    \n",
    "    alphabet_list = ['a', 'b', 'c', 'd', 'e', 'f', 'g', 'h', 'i', 'j', 'k', 'l', 'm', 'n', 'o',\n",
    "                    'p', 'q', 'r', 's', 't', 'u', 'v', 'w', 'x', 'y', 'z']\n",
    "    \n",
    "    points_list = [1, 3, 3, 2, 1, 4, 2, 4, 1, 8, 5, 1, 3, 1, 1, 3, 10, 1, 1, 1, 1, 1, 4, 4, 8, 4, 10]\n",
    "    \n",
    "    text = text.lower()\n",
    "    score = 0\n",
    "    for letter in text:\n",
    "        if letter in alphabet_list:\n",
    "            index = alphabet_list.index(letter)\n",
    "            score += points_list[index]\n",
    "        else:\n",
    "            score = 0\n",
    "    return score"
   ]
  },
  {
   "cell_type": "code",
   "execution_count": 15,
   "id": "b5f7db3b",
   "metadata": {},
   "outputs": [
    {
     "data": {
      "text/plain": [
       "8"
      ]
     },
     "execution_count": 15,
     "metadata": {},
     "output_type": "execute_result"
    }
   ],
   "source": [
    "scrabble_points(\"AbCa\")"
   ]
  },
  {
   "cell_type": "markdown",
   "id": "fcdda3c7",
   "metadata": {},
   "source": [
    "### 4) Write a function that that takes a list of integer values and a non-negative integer n as its parameters. The function should create a new copy of the list with the n smallest and the n largest elements removed. It should return the new copy of the list as the function’s result."
   ]
  },
  {
   "cell_type": "code",
   "execution_count": 16,
   "id": "311f4a0b",
   "metadata": {},
   "outputs": [],
   "source": [
    "def return_trimmed_list(lst, n):\n",
    "    \n",
    "    if len(lst) <= 2*n:\n",
    "        return []\n",
    "    \n",
    "    else:\n",
    "        sorted_list = sorted(lst)\n",
    "        trimmed_list = sorted_list[n:-n]\n",
    "        return trimmed_list"
   ]
  },
  {
   "cell_type": "code",
   "execution_count": 17,
   "id": "2e9344bf",
   "metadata": {},
   "outputs": [
    {
     "data": {
      "text/plain": [
       "[3, 5, 6, 7]"
      ]
     },
     "execution_count": 17,
     "metadata": {},
     "output_type": "execute_result"
    }
   ],
   "source": [
    "return_trimmed_list([3,6,1,2,7,8,9,5], 2)"
   ]
  },
  {
   "cell_type": "markdown",
   "id": "2536a62b",
   "metadata": {},
   "source": [
    "### 5) A integer, n, is said to be perfect when the sum of all the proper divisors of n is equal to n. For example, 28 is perfect because its proper divisors are 1, 2, 4, 7 and 14 and 1 + 2 + 4 + 7 + 14 = 28. Write a function that determines whether a positive integer is perfect. Your function should take the positive integer as its sole parameter and that returns True or False to indicate whether it is perfect or not."
   ]
  },
  {
   "cell_type": "code",
   "execution_count": 21,
   "id": "8c8a7dbb",
   "metadata": {},
   "outputs": [],
   "source": [
    "def perfect_number(n):\n",
    "    \n",
    "    divisor = 0\n",
    "    \n",
    "    for i in range(1,n):\n",
    "        if n%i == 0:\n",
    "            divisor+=i\n",
    "            \n",
    "    return divisor == n"
   ]
  },
  {
   "cell_type": "code",
   "execution_count": 22,
   "id": "8dbe916c",
   "metadata": {},
   "outputs": [
    {
     "data": {
      "text/plain": [
       "True"
      ]
     },
     "execution_count": 22,
     "metadata": {},
     "output_type": "execute_result"
    }
   ],
   "source": [
    "perfect_number(28)"
   ]
  }
 ],
 "metadata": {
  "kernelspec": {
   "display_name": "Python 3.9 (tensorflow)",
   "language": "python",
   "name": "tensorflow"
  },
  "language_info": {
   "codemirror_mode": {
    "name": "ipython",
    "version": 3
   },
   "file_extension": ".py",
   "mimetype": "text/x-python",
   "name": "python",
   "nbconvert_exporter": "python",
   "pygments_lexer": "ipython3",
   "version": "3.9.12"
  }
 },
 "nbformat": 4,
 "nbformat_minor": 5
}
