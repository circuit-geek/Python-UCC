{
 "cells": [
  {
   "cell_type": "markdown",
   "id": "0db11b36",
   "metadata": {},
   "source": [
    "### 1) Write a program that reads an integer from the users. Then your program should display a message indicating whether the integer is odd or even. (Hint: the % operator may come in handy.)"
   ]
  },
  {
   "cell_type": "code",
   "execution_count": 1,
   "id": "5b80361c",
   "metadata": {},
   "outputs": [
    {
     "name": "stdout",
     "output_type": "stream",
     "text": [
      "Enter an integer21\n",
      "Odd Number\n"
     ]
    }
   ],
   "source": [
    "a = int(input(\"Enter an integer\"))\n",
    "\n",
    "if a % 2 == 0:\n",
    "    print(\"Even Number\")\n",
    "else:\n",
    "    print(\"Odd Number\")"
   ]
  },
  {
   "cell_type": "markdown",
   "id": "30803f54",
   "metadata": {},
   "source": [
    "### 2) It is commonly said that one human year equates to seven dog years. However this fails to recognize that dogs reach adulthood in approximately two years. As a result, some believe that it is better to count each of the first two human years as 10.5 dog years and then count each additional year as 4 dog years. Write a program that implements the conversion from human years to dog years as described above."
   ]
  },
  {
   "cell_type": "code",
   "execution_count": 6,
   "id": "092fb37b",
   "metadata": {},
   "outputs": [
    {
     "name": "stdout",
     "output_type": "stream",
     "text": [
      "Enter the human year1\n",
      "Age of dog is 5.25\n"
     ]
    }
   ],
   "source": [
    "dog_year = 5.25\n",
    "first_two_human_year = dog_year*2\n",
    "age = int(input(\"Enter the human year\"))\n",
    "if age == 1:\n",
    "    print(\"Age of dog is\",dog_year)\n",
    "elif age == 2:\n",
    "    print(\"Age of dog is\",first_two_human_year)\n",
    "elif age > 2:\n",
    "    new_age_dog = first_two_human_year + 4\n",
    "    print(\"Age of dog is\",new_age_dog)\n",
    "else:\n",
    "    print(\"Age of dog is\", age)"
   ]
  },
  {
   "cell_type": "markdown",
   "id": "33ea5c7d",
   "metadata": {},
   "source": [
    "### 3)  Write a Python program that asks the user to enter a non-negative integer and that outputs the factorial of that number. Recall that the factorial of n (denoted n!) is defined as follows: n! = n · (n − 1) · (n − 2) · · · 3 · 2 · 1 Do not use the math.factorial function and do not use lists."
   ]
  },
  {
   "cell_type": "code",
   "execution_count": 1,
   "id": "86a699aa",
   "metadata": {},
   "outputs": [],
   "source": [
    "def factorial_number(n):\n",
    "    \n",
    "    if n == 0 or n == 1:\n",
    "        return 1\n",
    "    else: \n",
    "        return n * factorial_number(n-1)"
   ]
  },
  {
   "cell_type": "code",
   "execution_count": 2,
   "id": "aecaa03d",
   "metadata": {},
   "outputs": [
    {
     "data": {
      "text/plain": [
       "6"
      ]
     },
     "execution_count": 2,
     "metadata": {},
     "output_type": "execute_result"
    }
   ],
   "source": [
    "factorial_number(3)"
   ]
  },
  {
   "cell_type": "markdown",
   "id": "104af8ae",
   "metadata": {},
   "source": [
    "### 4) Write a Python program that requsts the user to enter a real number x and that calculates and prints an approximation of the quantity ex based on the first hundred terms of the infinite sum ex = ∞X k=0 xk/k! Recall that k! denotes the factorial of k. Do not use the math.factorial function.Hint: It should not be necessary to compute each term in the sum from scratch."
   ]
  },
  {
   "cell_type": "code",
   "execution_count": null,
   "id": "f528f313",
   "metadata": {},
   "outputs": [],
   "source": [
    "def calculate_expo(x):\n",
    "    \n",
    "    "
   ]
  }
 ],
 "metadata": {
  "kernelspec": {
   "display_name": "Python 3.9 (tensorflow)",
   "language": "python",
   "name": "tensorflow"
  },
  "language_info": {
   "codemirror_mode": {
    "name": "ipython",
    "version": 3
   },
   "file_extension": ".py",
   "mimetype": "text/x-python",
   "name": "python",
   "nbconvert_exporter": "python",
   "pygments_lexer": "ipython3",
   "version": "3.9.12"
  }
 },
 "nbformat": 4,
 "nbformat_minor": 5
}
