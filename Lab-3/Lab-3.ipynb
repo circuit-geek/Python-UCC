{
 "cells": [
  {
   "cell_type": "markdown",
   "id": "164c12c7",
   "metadata": {},
   "source": [
    "### 1) Write a function that takes the lengths of the two shorter sides of a right-angled triangle as parameters. Return the length of the hypotenuse of the triangle, computed using the Pythogorean theorem, as the function’s result. Test your function on a range of inputs to check its correctness."
   ]
  },
  {
   "cell_type": "code",
   "execution_count": 12,
   "id": "30d10026",
   "metadata": {},
   "outputs": [],
   "source": [
    "import math\n",
    "import statistics as st"
   ]
  },
  {
   "cell_type": "code",
   "execution_count": 3,
   "id": "16d8e757",
   "metadata": {},
   "outputs": [],
   "source": [
    "def pythagoras(a,b):\n",
    "    \n",
    "    c = math.sqrt((a*a + b*b))\n",
    "    return c"
   ]
  },
  {
   "cell_type": "code",
   "execution_count": 4,
   "id": "fd441fa9",
   "metadata": {},
   "outputs": [
    {
     "data": {
      "text/plain": [
       "5.0"
      ]
     },
     "execution_count": 4,
     "metadata": {},
     "output_type": "execute_result"
    }
   ],
   "source": [
    "pythagoras(3,4)"
   ]
  },
  {
   "cell_type": "markdown",
   "id": "0759d233",
   "metadata": {},
   "source": [
    "### 2) Write a function that takes three numbers as parameters and that returns the median of those parameters as the result. Do not use Python’s sorting capabilities."
   ]
  },
  {
   "cell_type": "code",
   "execution_count": 1,
   "id": "ea187b50",
   "metadata": {},
   "outputs": [],
   "source": [
    "def median(a,b,c):\n",
    "    \n",
    "    if a <= b and b <= c:\n",
    "        return b\n",
    "    if c <= b and b <= a:\n",
    "        return b\n",
    "    if a <= c and c <= b:\n",
    "        return c\n",
    "    if b <= c and c <= a:\n",
    "        return c\n",
    "    else:\n",
    "        return a"
   ]
  },
  {
   "cell_type": "code",
   "execution_count": 15,
   "id": "26f169b3",
   "metadata": {},
   "outputs": [],
   "source": [
    "def new_median(a,b,c):\n",
    "    \n",
    "    median = max(a,b,c) - min(a,b,c) - st.mean([a,b,c])\n",
    "    return median"
   ]
  },
  {
   "cell_type": "code",
   "execution_count": 16,
   "id": "d0483adc",
   "metadata": {},
   "outputs": [
    {
     "data": {
      "text/plain": [
       "-2"
      ]
     },
     "execution_count": 16,
     "metadata": {},
     "output_type": "execute_result"
    }
   ],
   "source": [
    "new_median(3,4,5)"
   ]
  },
  {
   "cell_type": "code",
   "execution_count": 2,
   "id": "63b63a4f",
   "metadata": {},
   "outputs": [
    {
     "data": {
      "text/plain": [
       "4"
      ]
     },
     "execution_count": 2,
     "metadata": {},
     "output_type": "execute_result"
    }
   ],
   "source": [
    "median(3,4,5)"
   ]
  },
  {
   "cell_type": "code",
   "execution_count": 3,
   "id": "fad50ac9",
   "metadata": {},
   "outputs": [
    {
     "data": {
      "text/plain": [
       "1"
      ]
     },
     "execution_count": 3,
     "metadata": {},
     "output_type": "execute_result"
    }
   ],
   "source": [
    "median(1,1,2)"
   ]
  },
  {
   "cell_type": "code",
   "execution_count": 4,
   "id": "48d854ed",
   "metadata": {},
   "outputs": [
    {
     "data": {
      "text/plain": [
       "4"
      ]
     },
     "execution_count": 4,
     "metadata": {},
     "output_type": "execute_result"
    }
   ],
   "source": [
    "median(4,5,3)"
   ]
  },
  {
   "cell_type": "markdown",
   "id": "a2000c67",
   "metadata": {},
   "source": [
    "### 3) Write a function doughnut(n) that displays an n×n “doughnut” pattern as illustrated below (for n = 9): The border around the perimiter should be a third of n (integer part thereof) in width."
   ]
  },
  {
   "cell_type": "code",
   "execution_count": 14,
   "id": "afa56cbf",
   "metadata": {},
   "outputs": [],
   "source": [
    "# def doughnut(n):\n",
    "    \n",
    "#     n = 9\n",
    "#     for i in (n):\n",
    "#         for j in range(i+1):\n",
    "#             print(\"*\")"
   ]
  },
  {
   "cell_type": "code",
   "execution_count": 26,
   "id": "5d21e572",
   "metadata": {
    "scrolled": true
   },
   "outputs": [
    {
     "name": "stdout",
     "output_type": "stream",
     "text": [
      "= = = = = = = = = \n",
      "= = = = = = = = = \n",
      "= = = = = = = = = \n",
      "= = = = = = = = = \n",
      "= = = = = = = = = \n",
      "= = = = = = = = = \n",
      "= = = = = = = = = \n",
      "= = = = = = = = = \n",
      "= = = = = = = = = \n"
     ]
    }
   ],
   "source": [
    "rows = 9\n",
    "\n",
    "for i in range(rows):\n",
    "    for j in range(rows):\n",
    "        print(\"=\", end =' ')\n",
    "    \n",
    "    print()"
   ]
  },
  {
   "cell_type": "code",
   "execution_count": 5,
   "id": "502c2476",
   "metadata": {},
   "outputs": [],
   "source": [
    "def donut(n, hollow):\n",
    "    \n",
    "    for i in range(n):\n",
    "        for j in range(n):\n",
    "            if i < hollow or i >= n - hollow or j < hollow or j >= n - hollow:\n",
    "                print(\"=\", end=\" \")\n",
    "            else:\n",
    "                print(\" \", end=\" \")\n",
    "        print()"
   ]
  },
  {
   "cell_type": "code",
   "execution_count": 9,
   "id": "a8583d7d",
   "metadata": {},
   "outputs": [
    {
     "name": "stdout",
     "output_type": "stream",
     "text": [
      "= = = = = = = = = \n",
      "= = = = = = = = = \n",
      "= = = = = = = = = \n",
      "= = =       = = = \n",
      "= = =       = = = \n",
      "= = =       = = = \n",
      "= = = = = = = = = \n",
      "= = = = = = = = = \n",
      "= = = = = = = = = \n"
     ]
    }
   ],
   "source": [
    "donut(9,3)"
   ]
  },
  {
   "cell_type": "code",
   "execution_count": 35,
   "id": "fe488410",
   "metadata": {},
   "outputs": [],
   "source": [
    "def donut(n, hollow):\n",
    "    \n",
    "    for i in range(n): ## Outer loop controls the rows \n",
    "        for j in range(n): ## Inner loop controls the columns\n",
    "            if i >= n - hollow or j >= n - hollow:\n",
    "                print(\"=\", end=\" \")\n",
    "            else:\n",
    "                print(\" \", end=\" \")\n",
    "        print()"
   ]
  },
  {
   "cell_type": "code",
   "execution_count": 36,
   "id": "17237278",
   "metadata": {},
   "outputs": [
    {
     "name": "stdout",
     "output_type": "stream",
     "text": [
      "            = = = \n",
      "            = = = \n",
      "            = = = \n",
      "            = = = \n",
      "            = = = \n",
      "            = = = \n",
      "= = = = = = = = = \n",
      "= = = = = = = = = \n",
      "= = = = = = = = = \n"
     ]
    }
   ],
   "source": [
    "donut(9,3)"
   ]
  },
  {
   "cell_type": "code",
   "execution_count": 37,
   "id": "ea2384e9",
   "metadata": {},
   "outputs": [],
   "source": [
    "def donut(n, hollow):\n",
    "    \n",
    "    for i in range(n): ## Outer loop controls the rows \n",
    "        for j in range(n): ## Inner loop controls the columns\n",
    "            if i < hollow or j < hollow:\n",
    "                print(\"=\", end=\" \")\n",
    "            else:\n",
    "                print(\" \", end=\" \")\n",
    "        print()"
   ]
  },
  {
   "cell_type": "code",
   "execution_count": 38,
   "id": "a9b86918",
   "metadata": {},
   "outputs": [
    {
     "name": "stdout",
     "output_type": "stream",
     "text": [
      "= = = = = = = = = \n",
      "= = = = = = = = = \n",
      "= = = = = = = = = \n",
      "= = =             \n",
      "= = =             \n",
      "= = =             \n",
      "= = =             \n",
      "= = =             \n",
      "= = =             \n"
     ]
    }
   ],
   "source": [
    "donut(9,3)"
   ]
  },
  {
   "cell_type": "markdown",
   "id": "7eaeaa8d",
   "metadata": {},
   "source": [
    "### 4) Write a function that takes a string of characters as its first parameter and the width of the screen as its second parameter. Your function should return a new string that consists of the original string and the correct number of leading spaces so that the the original string will appear centered within the provided width when it is printed. Do not add characters at the end of the string."
   ]
  },
  {
   "cell_type": "code",
   "execution_count": 44,
   "id": "02c62ce7",
   "metadata": {},
   "outputs": [],
   "source": [
    "def center_text(text, width):\n",
    "    # Calculate the number of leading spaces needed\n",
    "    spaces = max(0, width - len(text))\n",
    "    \n",
    "    # Calculate the number of spaces on each side of the text\n",
    "    left_spaces = spaces // 2\n",
    "    right_spaces = spaces - left_spaces\n",
    "\n",
    "    # Create the centered string by adding leading spaces\n",
    "    centered_text = ' ' * left_spaces + text + ' ' * right_spaces\n",
    "\n",
    "    return centered_text"
   ]
  },
  {
   "cell_type": "code",
   "execution_count": 45,
   "id": "86c4bbbc",
   "metadata": {},
   "outputs": [
    {
     "data": {
      "text/plain": [
       "'       Gaurav       '"
      ]
     },
     "execution_count": 45,
     "metadata": {},
     "output_type": "execute_result"
    }
   ],
   "source": [
    "center_text(\"Gaurav\", 20)"
   ]
  },
  {
   "cell_type": "markdown",
   "id": "ad6e35d4",
   "metadata": {},
   "source": [
    "### 5) Write a function that simulates a sequence of coin flips and returns the number of flips performed until the first occurrence of two consecutive heads. Use the randint function from Python’s random module to simulate a single coin flip. Perform a maximum of 1000 flips; if two consecutive heads have not appeared by sthat stage return 1000 as the result. Note a return statement can appear anywhere with the body of a function. It will cause the function’s execution to cease (even from the middle of a loop say) and for the indicated value to be returned."
   ]
  },
  {
   "cell_type": "code",
   "execution_count": 47,
   "id": "e133d343",
   "metadata": {},
   "outputs": [],
   "source": [
    "from random import randint"
   ]
  },
  {
   "cell_type": "code",
   "execution_count": 48,
   "id": "bee741fa",
   "metadata": {},
   "outputs": [],
   "source": [
    "## Heads = 0 and Tails = 1\n",
    "def coin_flips():\n",
    "    \n",
    "    count = 0\n",
    "    flips = []\n",
    "    for i in range(1000):  \n",
    "        coin_flip = randint(0,1)\n",
    "        flips.append(coin_flip)\n",
    "        if (flips[i] != flips[i+1]):\n",
    "            count = count + 1\n",
    "            return count\n",
    "        else:\n",
    "            return flips[999]"
   ]
  },
  {
   "cell_type": "code",
   "execution_count": 51,
   "id": "309a409a",
   "metadata": {},
   "outputs": [
    {
     "ename": "IndexError",
     "evalue": "list index out of range",
     "output_type": "error",
     "traceback": [
      "\u001b[1;31m---------------------------------------------------------------------------\u001b[0m",
      "\u001b[1;31mIndexError\u001b[0m                                Traceback (most recent call last)",
      "\u001b[1;32m~\\AppData\\Local\\Temp\\ipykernel_9312\\3712416909.py\u001b[0m in \u001b[0;36m<cell line: 1>\u001b[1;34m()\u001b[0m\n\u001b[1;32m----> 1\u001b[1;33m \u001b[0mprint\u001b[0m\u001b[1;33m(\u001b[0m\u001b[0mcoin_flips\u001b[0m\u001b[1;33m(\u001b[0m\u001b[1;33m)\u001b[0m\u001b[1;33m)\u001b[0m\u001b[1;33m\u001b[0m\u001b[1;33m\u001b[0m\u001b[0m\n\u001b[0m",
      "\u001b[1;32m~\\AppData\\Local\\Temp\\ipykernel_9312\\594276394.py\u001b[0m in \u001b[0;36mcoin_flips\u001b[1;34m()\u001b[0m\n\u001b[0;32m      7\u001b[0m         \u001b[0mcoin_flip\u001b[0m \u001b[1;33m=\u001b[0m \u001b[0mrandint\u001b[0m\u001b[1;33m(\u001b[0m\u001b[1;36m0\u001b[0m\u001b[1;33m,\u001b[0m\u001b[1;36m1\u001b[0m\u001b[1;33m)\u001b[0m\u001b[1;33m\u001b[0m\u001b[1;33m\u001b[0m\u001b[0m\n\u001b[0;32m      8\u001b[0m         \u001b[0mflips\u001b[0m\u001b[1;33m.\u001b[0m\u001b[0mappend\u001b[0m\u001b[1;33m(\u001b[0m\u001b[0mcoin_flip\u001b[0m\u001b[1;33m)\u001b[0m\u001b[1;33m\u001b[0m\u001b[1;33m\u001b[0m\u001b[0m\n\u001b[1;32m----> 9\u001b[1;33m         \u001b[1;32mif\u001b[0m \u001b[1;33m(\u001b[0m\u001b[0mflips\u001b[0m\u001b[1;33m[\u001b[0m\u001b[0mi\u001b[0m\u001b[1;33m]\u001b[0m \u001b[1;33m!=\u001b[0m \u001b[0mflips\u001b[0m\u001b[1;33m[\u001b[0m\u001b[0mi\u001b[0m\u001b[1;33m+\u001b[0m\u001b[1;36m1\u001b[0m\u001b[1;33m]\u001b[0m\u001b[1;33m)\u001b[0m\u001b[1;33m:\u001b[0m\u001b[1;33m\u001b[0m\u001b[1;33m\u001b[0m\u001b[0m\n\u001b[0m\u001b[0;32m     10\u001b[0m             \u001b[0mcount\u001b[0m \u001b[1;33m=\u001b[0m \u001b[0mcount\u001b[0m \u001b[1;33m+\u001b[0m \u001b[1;36m1\u001b[0m\u001b[1;33m\u001b[0m\u001b[1;33m\u001b[0m\u001b[0m\n\u001b[0;32m     11\u001b[0m             \u001b[1;32mreturn\u001b[0m \u001b[0mcount\u001b[0m\u001b[1;33m\u001b[0m\u001b[1;33m\u001b[0m\u001b[0m\n",
      "\u001b[1;31mIndexError\u001b[0m: list index out of range"
     ]
    }
   ],
   "source": [
    "print(coin_flips())"
   ]
  },
  {
   "cell_type": "code",
   "execution_count": 52,
   "id": "669c8bb6",
   "metadata": {},
   "outputs": [
    {
     "name": "stdout",
     "output_type": "stream",
     "text": [
      "Number of flips until two consecutive heads: 4\n"
     ]
    }
   ],
   "source": [
    "def coin_flips():\n",
    "    count = 0\n",
    "    consecutive_heads = 0\n",
    "\n",
    "    while consecutive_heads < 2 and count < 1000:\n",
    "        coin_flip = randint(0, 1)\n",
    "        count += 1\n",
    "\n",
    "        if coin_flip == 1:  # 1 represents heads\n",
    "            consecutive_heads += 1\n",
    "        else:\n",
    "            consecutive_heads = 0\n",
    "\n",
    "    return count\n",
    "\n",
    "result = coin_flips()\n",
    "print(f\"Number of flips until two consecutive heads: {result}\")"
   ]
  },
  {
   "cell_type": "markdown",
   "id": "17db0e57",
   "metadata": {},
   "source": [
    "### 6) Write a function that takes a non-negative real number as its parameter and that returns an approximation of the square root of that number using the approach sketched below. (Do no use the ∗∗ or any of Python’s functions such as sqrt or pow etc.). Calculate the root by a generating a sequence of successively better approximations (“guesses”) for the true value. For parameter x, take x/2 as your initial guess. At each step update guess by replacing it by the average of the current value of guess and x/guess. Terminate the process after 100 iterations and return the value of guess."
   ]
  },
  {
   "cell_type": "code",
   "execution_count": 26,
   "id": "fb1ae369",
   "metadata": {},
   "outputs": [],
   "source": [
    "def newton_sqrt(x):\n",
    "    \n",
    "    error = 1.0E-12\n",
    "\n",
    "    sqrt_estimate = x/2\n",
    "\n",
    "    while(abs(sqrt_estimate ** 2 - x)) >= error:\n",
    "\n",
    "        sqrt_estimate = (sqrt_estimate + x/sqrt_estimate)/2\n",
    "    \n",
    "    return sqrt_estimate"
   ]
  },
  {
   "cell_type": "code",
   "execution_count": 27,
   "id": "4ab72671",
   "metadata": {},
   "outputs": [
    {
     "data": {
      "text/plain": [
       "8.0"
      ]
     },
     "execution_count": 27,
     "metadata": {},
     "output_type": "execute_result"
    }
   ],
   "source": [
    "newton_sqrt(64)"
   ]
  },
  {
   "cell_type": "code",
   "execution_count": 30,
   "id": "96540493",
   "metadata": {},
   "outputs": [],
   "source": [
    "def sqrt_new_method(x):\n",
    "    \n",
    "    guess = x/2\n",
    "    \n",
    "    for i in range(100):\n",
    "        \n",
    "        guess = (guess + x/guess)/2\n",
    "        \n",
    "    return guess"
   ]
  },
  {
   "cell_type": "code",
   "execution_count": 32,
   "id": "8e5620e8",
   "metadata": {},
   "outputs": [
    {
     "data": {
      "text/plain": [
       "5.0"
      ]
     },
     "execution_count": 32,
     "metadata": {},
     "output_type": "execute_result"
    }
   ],
   "source": [
    "sqrt_new_method(25)"
   ]
  },
  {
   "cell_type": "code",
   "execution_count": null,
   "id": "0e21b9f1",
   "metadata": {},
   "outputs": [],
   "source": []
  }
 ],
 "metadata": {
  "kernelspec": {
   "display_name": "Python 3.9 (tensorflow)",
   "language": "python",
   "name": "tensorflow"
  },
  "language_info": {
   "codemirror_mode": {
    "name": "ipython",
    "version": 3
   },
   "file_extension": ".py",
   "mimetype": "text/x-python",
   "name": "python",
   "nbconvert_exporter": "python",
   "pygments_lexer": "ipython3",
   "version": "3.9.12"
  }
 },
 "nbformat": 4,
 "nbformat_minor": 5
}
